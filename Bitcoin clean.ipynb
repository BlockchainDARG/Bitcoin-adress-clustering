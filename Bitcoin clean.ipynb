{
 "cells": [
  {
   "cell_type": "markdown",
   "metadata": {},
   "source": [
    "### Validating transactions\n",
    "\n",
    "We remove fraudulent blocks from the blockchain data to ensure we only have valid inputs and outputs"
   ]
  },
  {
   "cell_type": "code",
   "execution_count": 1,
   "metadata": {
    "collapsed": true
   },
   "outputs": [],
   "source": [
    "import pandas as pd\n",
    "\n",
    "transactions = pd.read_csv(\"transactions.csv\", index_col=0, names=[\"block_id\", \"is_coinbase\"])\n",
    "transactions.index.name = \"tr_id\""
   ]
  },
  {
   "cell_type": "code",
   "execution_count": 2,
   "metadata": {},
   "outputs": [
    {
     "name": "stdout",
     "output_type": "stream",
     "text": [
      "Will remove 11 blocks\n",
      "Removing 27 transactions\n",
      "[ 11281  11282  12151  12152  15697  15698  30445  30446  56851  56852\n",
      "  56853  61841  61842  61843  61844  61845 100928 100929 105279 105280\n",
      " 105281 114915 114916 137236 137237 204750 204751]\n"
     ]
    }
   ],
   "source": [
    "issues = [52534,   # 2 coinbases! have to drop it\n",
    "          11181,   # tries to mint more 10 satoshis that are not in fees...\n",
    "          12042,   # Double spend attack for output 7998, spent at input 521...\n",
    "          15567, # Tries to spend an output that does not exist (yet) \n",
    "          30223,   # Tries to double spend the same output (21928) in the same TX\n",
    "          56565,  # Tries to double spend output 65403\n",
    "          72902, # Outputs higher (10 satoshis) then input\n",
    "          75047, # Tries to have a negative 50 BTC output...\n",
    "          79885,  # Tries to spend an output from a block with 2 coinbases...\n",
    "          88755,  # Tries to spend the output that it creates to create it\n",
    "          96607]  # Tries to spend an output that has not been created yet.\n",
    "    \n",
    "print(\"Will remove {} blocks\".format(len(issues)))\n",
    "\n",
    "problematic_blocks = transactions.block_id.isin(issues)\n",
    "print(\"Removing {} transactions\".format(sum(problematic_blocks)))\n",
    "tx_to_remove = transactions[transactions.block_id.isin(issues)].index.values\n",
    "print(tx_to_remove)\n",
    "transactions =  transactions[~problematic_blocks] # 2 coinbases for 52354, we will have to drop it\n",
    "# Now ce can simply deal with transactions! \n",
    "# Let's also re\n",
    "\n",
    "\n",
    "# Let's add info on outputs and inputs to transactions\n",
    "inputs = pd.read_csv(\"inputs.csv\", index_col=0, names=[\"tr_id\", \"output_id\"])\n",
    "outputs = pd.read_csv(\"outputs.csv\", index_col=0, names=[\"tr_id\", \"pk_id\" ,\"value\"])\n",
    "\n",
    "# Let's also drop those that refer to to the 52354 here.\n",
    "inputs = inputs[~inputs.tr_id.isin(tx_to_remove)]\n",
    "outputs = outputs[~outputs.tr_id.isin(tx_to_remove)]\n",
    "\n",
    "\n",
    "# Check for two coinbases !\n",
    "two_coinbase = sum(transactions[transactions.is_coinbase == 1].block_id.value_counts() > 1)\n",
    "assert(not two_coinbase)"
   ]
  },
  {
   "cell_type": "code",
   "execution_count": 3,
   "metadata": {
    "collapsed": true
   },
   "outputs": [],
   "source": [
    "# Let's add columns for inputs and outputs in the transaction table\n",
    "\n",
    "input_summary = {tr_id: [] for tr_id in transactions.index}\n",
    "output_summary =  {tr_id: [] for tr_id in transactions.index}\n",
    "\n",
    "for id, tr_id in inputs.tr_id.items():\n",
    "    input_summary[tr_id].append(id)\n",
    "for id, tr_id in outputs.tr_id.items():\n",
    "    output_summary[tr_id].append(id)\n",
    "    \n",
    "transactions[\"inputs\"] = pd.Series(input_summary)\n",
    "transactions[\"outputs\"] = pd.Series(output_summary)"
   ]
  },
  {
   "cell_type": "code",
   "execution_count": 4,
   "metadata": {
    "collapsed": true
   },
   "outputs": [],
   "source": [
    "def handle_coinbase(transaction):\n",
    "    # Perform basic checks\n",
    "    assert(not transaction.inputs)\n",
    "    try:\n",
    "        assert(len(transaction.outputs) > 0)\n",
    "    except:\n",
    "        print(transaction)\n",
    "        print(1/0)\n",
    "\n",
    "    coinbase = outputs.loc[transaction.outputs]\n",
    "    if coinbase.shape[0] > 1:\n",
    "        try:\n",
    "            assert(coinbase.value.sum() == coinbase_value)\n",
    "        except:\n",
    "            to_check.append(transaction.block_id)\n",
    "        for output, pk, value in zip(coinbase.index, coinbase.pk_id, coinbase.value):\n",
    "            utxo[output] = [pk, value]\n",
    "        return\n",
    "    \n",
    "    try:\n",
    "        assert(int(coinbase[\"value\"]) == coinbase_value)\n",
    "    except:\n",
    "        to_check.append(transaction.block_id)\n",
    "    try:\n",
    "        pk_id = int(coinbase.pk_id)\n",
    "    except:\n",
    "        print(transaction)\n",
    "        print(coinbase)\n",
    "        print(1/0)\n",
    "    output_id = coinbase.index[0]\n",
    "    utxo[output_id] = [pk_id, int(coinbase[\"value\"])]\n",
    "\n",
    "        \n",
    "def handle_transaction(transaction):\n",
    "    \n",
    "    assert(transaction.inputs)\n",
    "    assert(transaction.outputs)\n",
    "    \n",
    "    all_outputs = outputs.loc[transaction.outputs]\n",
    "    value_output = all_outputs.value.sum()\n",
    "    \n",
    "    all_inputs = inputs.loc[transaction.inputs].output_id\n",
    "    try:\n",
    "        value_input = sum(utxo[i][1] for i in all_inputs)\n",
    "    except:\n",
    "        print(inputs.loc[transaction.inputs])\n",
    "        print(transaction)\n",
    "        print(1/0)\n",
    "    \n",
    "    try:\n",
    "        assert(value_input == value_output)\n",
    "    except:\n",
    "        diff = value_input - value_output\n",
    "        if not transaction.block_id in to_check:\n",
    "            print(transaction)\n",
    "            print(diff)\n",
    "            print(1/0)\n",
    "        if diff < 0:\n",
    "            print(transaction)\n",
    "            print(1/0)\n",
    "    \n",
    "    # We can now do the transaction!\n",
    "    for i in all_inputs:\n",
    "        try:\n",
    "            utxo.pop(i)\n",
    "        except:\n",
    "            print(all_inputs)\n",
    "            print(transaction)\n",
    "            print(1/0)\n",
    "    \n",
    "    for output_id, pk_id, value in zip(all_outputs.index, all_outputs.pk_id, all_outputs.value):\n",
    "        utxo[output_id] = [pk_id, value]"
   ]
  },
  {
   "cell_type": "code",
   "execution_count": 5,
   "metadata": {},
   "outputs": [
    {
     "name": "stdout",
     "output_type": "stream",
     "text": [
      "Handled 9999 transactions\n",
      "Handled 19999 transactions\n",
      "Handled 29999 transactions\n",
      "Handled 39999 transactions\n",
      "Handled 49999 transactions\n",
      "Handled 59999 transactions\n",
      "Handled 69999 transactions\n",
      "Handled 79999 transactions\n",
      "Handled 89999 transactions\n",
      "Handled 99999 transactions\n",
      "Handled 109999 transactions\n",
      "Handled 119999 transactions\n",
      "Handled 129999 transactions\n",
      "Handled 139999 transactions\n",
      "Handled 149999 transactions\n",
      "Handled 159999 transactions\n",
      "Handled 169999 transactions\n",
      "Handled 179999 transactions\n",
      "Handled 189999 transactions\n",
      "Handled 199999 transactions\n",
      "Handled 209999 transactions\n"
     ]
    }
   ],
   "source": [
    "utxo = {} # mapping UTXO to [owner, value]\n",
    "coinbase_value = 50*10**8\n",
    "to_check = [] # we check fees externally as its a block level feature\n",
    "\n",
    "for i, coinbase in enumerate(transactions.is_coinbase):\n",
    "    if (i+1) % 10**4 == 0:\n",
    "        print(\"Handled {} transactions\".format(i))\n",
    "    if coinbase:\n",
    "        handle_coinbase(transactions.iloc[i])\n",
    "    else:\n",
    "        handle_transaction(transactions.iloc[i])"
   ]
  },
  {
   "cell_type": "code",
   "execution_count": 6,
   "metadata": {},
   "outputs": [
    {
     "data": {
      "text/plain": [
       "71887"
      ]
     },
     "execution_count": 6,
     "metadata": {},
     "output_type": "execute_result"
    }
   ],
   "source": [
    "len(utxo)"
   ]
  },
  {
   "cell_type": "code",
   "execution_count": 7,
   "metadata": {},
   "outputs": [
    {
     "data": {
      "text/plain": [
       "90000.0"
      ]
     },
     "execution_count": 7,
     "metadata": {},
     "output_type": "execute_result"
    }
   ],
   "source": [
    "val = [i[1] for i in utxo.values()]\n",
    "max(val)/10**8"
   ]
  },
  {
   "cell_type": "code",
   "execution_count": 8,
   "metadata": {},
   "outputs": [
    {
     "name": "stdout",
     "output_type": "stream",
     "text": [
      "10000\n",
      "Number distinct values:  174120\n",
      "20000\n",
      "Number distinct values:  173708\n",
      "30000\n",
      "Number distinct values:  171941\n",
      "40000\n",
      "Number distinct values:  169877\n",
      "50000\n",
      "Number distinct values:  166095\n",
      "60000\n",
      "Number distinct values:  161648\n",
      "70000\n",
      "Number distinct values:  156463\n",
      "80000\n",
      "Number distinct values:  153179\n",
      "90000\n",
      "Number distinct values:  150071\n",
      "100000\n",
      "Number distinct values:  146941\n",
      "110000\n",
      "Number distinct values:  141077\n",
      "120000\n",
      "Number distinct values:  134572\n",
      "130000\n",
      "Number distinct values:  126761\n",
      "140000\n",
      "Number distinct values:  120950\n",
      "150000\n",
      "Number distinct values:  118104\n",
      "160000\n",
      "Number distinct values:  117374\n",
      "170000\n",
      "Number distinct values:  117172\n",
      "180000\n",
      "Number distinct values:  117007\n",
      "190000\n",
      "Number distinct values:  116284\n",
      "200000\n",
      "Number distinct values:  115126\n",
      "210000\n",
      "Number distinct values:  109721\n"
     ]
    }
   ],
   "source": [
    "pk_ids = pd.Series(range(outputs.pk_id.nunique()), index=outputs.pk_id.unique())\n",
    "\n",
    "for _, (input_, output_) in transactions[[\"inputs\", \"outputs\"]].iterrows():\n",
    "    if not (_ + 1) % 10000:\n",
    "        print(_ + 1)\n",
    "        print(\"Number distinct values: \", len(set(pk_ids)))\n",
    "    \n",
    "    if len(input_) > 1 or (len(output_) == 1 and len(input_)):\n",
    "        pk_input = list(outputs.loc[inputs.loc[input_].output_id].pk_id)\n",
    "        pk_output = list(outputs.loc[output_].pk_id)\n",
    "    else:\n",
    "        continue\n",
    "\n",
    "    if len(input_) > 1:\n",
    "        for pk in pk_input[1:]:\n",
    "            clus_1, clus_2 = pk_ids.loc[pk_input[0]], pk_ids.loc[pk]\n",
    "            if clus_1 != clus_2:\n",
    "                pk_ids = pk_ids.replace(clus_1, clus_2) \n",
    "                \n",
    "    if len(output_) == 1 and len(input_):\n",
    "        for i in range(len(pk_input)):\n",
    "            clus_1, clus_2 = pk_ids.loc[pk_input[0]], pk_ids.loc[pk_output[0]]\n",
    "            if clus_1 != clus_2: \n",
    "                pk_ids = pk_ids.replace(clus_1, clus_2)"
   ]
  },
  {
   "cell_type": "code",
   "execution_count": 10,
   "metadata": {
    "collapsed": true
   },
   "outputs": [],
   "source": [
    "possessions_check = {}\n",
    "for _, (pk, val) in outputs[~outputs.index.isin(inputs.output_id)][[\"pk_id\", \"value\"]].iterrows():\n",
    "    uf_pkid = pk_ids.loc[pk]\n",
    "    possessions_check[uf_pkid] = possessions_check.get(uf_pkid, 0) + val"
   ]
  },
  {
   "cell_type": "code",
   "execution_count": 11,
   "metadata": {},
   "outputs": [
    {
     "data": {
      "text/plain": [
       "998547.75176268001"
      ]
     },
     "execution_count": 11,
     "metadata": {},
     "output_type": "execute_result"
    }
   ],
   "source": [
    "max(possessions_check.values())/10**8"
   ]
  },
  {
   "cell_type": "code",
   "execution_count": 12,
   "metadata": {},
   "outputs": [
    {
     "data": {
      "text/plain": [
       "174664"
      ]
     },
     "execution_count": 12,
     "metadata": {},
     "output_type": "execute_result"
    }
   ],
   "source": [
    "entity = max(possessions_check, key=possessions_check.get)\n",
    "entity"
   ]
  },
  {
   "cell_type": "code",
   "execution_count": 13,
   "metadata": {
    "collapsed": true
   },
   "outputs": [],
   "source": [
    "controlled = []\n",
    "for key, val in pk_ids.items():\n",
    "    if val == entity:\n",
    "        controlled.append(key)"
   ]
  },
  {
   "cell_type": "code",
   "execution_count": 15,
   "metadata": {},
   "outputs": [
    {
     "data": {
      "text/plain": [
       "172"
      ]
     },
     "execution_count": 15,
     "metadata": {},
     "output_type": "execute_result"
    }
   ],
   "source": [
    "min(controlled)"
   ]
  },
  {
   "cell_type": "code",
   "execution_count": 69,
   "metadata": {},
   "outputs": [
    {
     "name": "stdout",
     "output_type": "stream",
     "text": [
      "10000\n",
      "20000\n",
      "30000\n",
      "40000\n",
      "50000\n",
      "60000\n",
      "70000\n",
      "80000\n"
     ]
    }
   ],
   "source": [
    "senders = []\n",
    "for j, tx in enumerate(outputs[outputs.pk_id.isin(controlled)].tr_id):\n",
    "    if not (j+1)%10**4:\n",
    "        print(j+1)\n",
    "    origin = inputs.loc[transactions.loc[tx].inputs].output_id\n",
    "    tx_series = outputs.loc[origin]\n",
    "    if (~tx_series.pk_id.isin(controlled)).all():\n",
    "        senders.append([tx, tx_series.value.sum()])"
   ]
  },
  {
   "cell_type": "code",
   "execution_count": 70,
   "metadata": {
    "collapsed": true
   },
   "outputs": [],
   "source": [
    "senders = pd.Series([s[1] for s in senders], index=[s[0] for s in senders])"
   ]
  },
  {
   "cell_type": "code",
   "execution_count": 72,
   "metadata": {},
   "outputs": [
    {
     "name": "stdout",
     "output_type": "stream",
     "text": [
      "49980.0\n",
      "98122\n"
     ]
    }
   ],
   "source": [
    "print(senders.max()/10**8)\n",
    "print(senders.argmax())"
   ]
  },
  {
   "cell_type": "code",
   "execution_count": 73,
   "metadata": {},
   "outputs": [
    {
     "data": {
      "text/plain": [
       "block_id                  71562\n",
       "is_coinbase                   0\n",
       "inputs                  [56287]\n",
       "outputs        [114341, 114342]\n",
       "Name: 98122, dtype: object"
      ]
     },
     "execution_count": 73,
     "metadata": {},
     "output_type": "execute_result"
    }
   ],
   "source": [
    "transactions.loc[98122]"
   ]
  }
 ],
 "metadata": {
  "kernelspec": {
   "display_name": "Python 3",
   "language": "python",
   "name": "python3"
  },
  "language_info": {
   "codemirror_mode": {
    "name": "ipython",
    "version": 3
   },
   "file_extension": ".py",
   "mimetype": "text/x-python",
   "name": "python",
   "nbconvert_exporter": "python",
   "pygments_lexer": "ipython3",
   "version": "3.6.2"
  }
 },
 "nbformat": 4,
 "nbformat_minor": 2
}
